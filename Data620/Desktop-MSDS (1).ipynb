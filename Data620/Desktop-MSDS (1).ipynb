{
 "cells": [
  {
   "cell_type": "code",
   "execution_count": 17,
   "metadata": {},
   "outputs": [],
   "source": [
    "import requests\n",
    "import json\n",
    "import csv\n",
    "import numpy as np\n",
    "import pandas as pd\n",
    "from IPython.display import display\n",
    "import time\n",
    "import sys\n",
    "\n",
    "# Get data from the morph.io api\n",
    "import requests\n",
    "\n",
    "\n",
    "# Get data from the morph.io api\n",
    "import requests\n",
    "\n",
    "# We're always asking for json because it's the easiest to deal with\n",
    "morph_api_url = \"https://api.morph.io/chrisguags/ratemyprofessors/data.json\"\n",
    "\n",
    "# Keep this key secret!\n",
    "morph_api_key = \"oBcFkVzJ/Cbxxp8xmbZV\"\n",
    "\n",
    "r = requests.get(morph_api_url, params={\n",
    "  'key': morph_api_key,\n",
    "  'query': \"select * from 'data' limit 20\"\n",
    "})\n",
    "\n",
    "res = r.json()\n",
    "df = pd.DataFrame(res)"
   ]
  },
  {
   "cell_type": "code",
   "execution_count": 16,
   "metadata": {},
   "outputs": [
    {
     "name": "stdout",
     "output_type": "stream",
     "text": [
      "    College          Department Easiness      Hot                   Name  \\\n",
      "0      Duke             Biology      3.2  Not Hot                  Pei,    \n",
      "1      Duke          Psychology      3.8      Hot         Richman, Laura   \n",
      "2   Harvard  Physical Education      2.0      Hot    Abrahamson, Michael   \n",
      "3   Harvard             Theater      3.0      Hot          Baron, Evalyn   \n",
      "4   Harvard             Geology      2.0  Not Hot             Bier, Sara   \n",
      "5   Harvard          Psychology      1.2  Not Hot           Blaney, Paul   \n",
      "6   Harvard          Psychology      2.9  Not Hot            Carter, Ken   \n",
      "7   Harvard               Music      2.7  Not Hot       Coulthard, Anita   \n",
      "8   Harvard           Education      2.3      Hot        Crickmer, Janet   \n",
      "9   Harvard          Philosophy      1.8  Not Hot              Damer, Ed   \n",
      "10  Harvard               Music      4.5      Hot            Davis, Mark   \n",
      "11  Harvard           Education      3.2  Not Hot           Diss, Ronald   \n",
      "12  Harvard            Business      2.7      Hot         Ambrose, Scott   \n",
      "13  Harvard             Theater      3.8  Not Hot       Baumgartner, Tim   \n",
      "14  Harvard             English      3.5      Hot      Blackburn, Jessie   \n",
      "15  Harvard             English      2.2      Hot        Boltwood, Scott   \n",
      "16  Harvard             English      2.0      Hot  Chamberlain, Kathleen   \n",
      "17  Harvard          Psychology      2.0  Not Hot            Cox, Mary B   \n",
      "18  Harvard            Business      2.7      Hot           Cumbo, James   \n",
      "19  Harvard           Geography      2.5  Not Hot              Davis, Ed   \n",
      "\n",
      "   Overall Quality Total Ratings  \n",
      "0              3.8             4  \n",
      "1              4.3             6  \n",
      "2              4.5             1  \n",
      "3              5.0             1  \n",
      "4              4.5             2  \n",
      "5              2.8             4  \n",
      "6              3.6             9  \n",
      "7              4.5             3  \n",
      "8              4.5             3  \n",
      "9              2.9            18  \n",
      "10             3.9            18  \n",
      "11             4.0             8  \n",
      "12             3.8             3  \n",
      "13             3.9             4  \n",
      "14             4.8             6  \n",
      "15             4.5            32  \n",
      "16             4.3            20  \n",
      "17             5.0             1  \n",
      "18             4.8             6  \n",
      "19             4.3            11  \n"
     ]
    }
   ],
   "source": [
    "print df"
   ]
  },
  {
   "cell_type": "markdown",
   "metadata": {},
   "source": [
    "Above is the loaded data, we would need to parse the text in the ratings and examine the networks among universites and professors. It would also be interesting to examine the hot/not hot column and see if that changes a professors overall score."
   ]
  },
  {
   "cell_type": "code",
   "execution_count": null,
   "metadata": {},
   "outputs": [],
   "source": []
  }
 ],
 "metadata": {
  "kernelspec": {
   "display_name": "Python 2",
   "language": "python",
   "name": "python2"
  },
  "language_info": {
   "codemirror_mode": {
    "name": "ipython",
    "version": 2
   },
   "file_extension": ".py",
   "mimetype": "text/x-python",
   "name": "python",
   "nbconvert_exporter": "python",
   "pygments_lexer": "ipython2",
   "version": "2.7.16"
  }
 },
 "nbformat": 4,
 "nbformat_minor": 2
}
